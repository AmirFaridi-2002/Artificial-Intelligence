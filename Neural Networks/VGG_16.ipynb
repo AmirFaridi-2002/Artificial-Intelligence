{
  "cells": [
    {
      "cell_type": "markdown",
      "metadata": {
        "id": "OAa6g3BcFCOi"
      },
      "source": [
        "# CNN: VGG-16\n",
        "\n",
        "### CA4 @ AI Course\n",
        "\n",
        "*َAmir Faridi*\n",
        "\n",
        "*610300087*\n",
        "\n",
        "\n",
        "![](https://i.postimg.cc/qR2ghvVg/VGG-16.png)"
      ]
    },
    {
      "cell_type": "code",
      "execution_count": 1,
      "metadata": {
        "id": "sVRXJpmczEmi"
      },
      "outputs": [],
      "source": [
        "import torch\n",
        "import numpy as np\n",
        "import torchvision\n",
        "import torch.nn as nn\n",
        "from torchvision import transforms\n",
        "import matplotlib.pyplot as plt\n",
        "\n",
        "from termcolor import colored\n",
        "def cprint(text : str, color : str = \"yellow\") -> None:\n",
        "    print(colored(text, color))\n",
        "\n",
        "class VGG16(nn.Module):\n",
        "    def __init__(self, num_classes=10):\n",
        "        super(VGG16, self).__init__()\n",
        "\n",
        "        self.features = nn.Sequential(\n",
        "            nn.Conv2d(3, 64, kernel_size=3, padding=1),\n",
        "            nn.BatchNorm2d(64),\n",
        "            nn.ReLU(inplace=True),\n",
        "\n",
        "            nn.Conv2d(64, 64, kernel_size=3, padding=1),\n",
        "            nn.BatchNorm2d(64),\n",
        "            nn.ReLU(inplace=True),\n",
        "            nn.MaxPool2d(kernel_size=2, stride=2),\n",
        "\n",
        "            nn.Conv2d(64, 128, kernel_size=3, padding=1),\n",
        "            nn.BatchNorm2d(128),\n",
        "            nn.ReLU(inplace=True),\n",
        "\n",
        "            nn.Conv2d(128, 128, kernel_size=3, padding=1),\n",
        "            nn.BatchNorm2d(128),\n",
        "            nn.ReLU(inplace=True),\n",
        "            nn.MaxPool2d(kernel_size=2, stride=2),\n",
        "\n",
        "            nn.Conv2d(128, 256, kernel_size=3, padding=1),\n",
        "            nn.BatchNorm2d(256),\n",
        "            nn.ReLU(inplace=True),\n",
        "\n",
        "            nn.Conv2d(256, 256, kernel_size=3, padding=1),\n",
        "            nn.BatchNorm2d(256),\n",
        "            nn.ReLU(inplace=True),\n",
        "\n",
        "            nn.Conv2d(256, 256, kernel_size=3, padding=1),\n",
        "            nn.BatchNorm2d(256),\n",
        "            nn.ReLU(inplace=True),\n",
        "            nn.MaxPool2d(kernel_size=2, stride=2),\n",
        "\n",
        "            nn.Conv2d(256, 512, kernel_size=3, padding=1),\n",
        "            nn.BatchNorm2d(512),\n",
        "            nn.ReLU(inplace=True),\n",
        "\n",
        "            nn.Conv2d(512, 512, kernel_size=3, padding=1),\n",
        "            nn.BatchNorm2d(512),\n",
        "            nn.ReLU(inplace=True),\n",
        "\n",
        "            nn.Conv2d(512, 512, kernel_size=3, padding=1),\n",
        "            nn.BatchNorm2d(512),\n",
        "            nn.ReLU(inplace=True),\n",
        "            nn.MaxPool2d(kernel_size=2, stride=2),\n",
        "\n",
        "            nn.Conv2d(512, 512, kernel_size=3, padding=1),\n",
        "            nn.BatchNorm2d(512),\n",
        "            nn.ReLU(inplace=True),\n",
        "\n",
        "            nn.Conv2d(512, 512, kernel_size=3, padding=1),\n",
        "            nn.BatchNorm2d(512),\n",
        "            nn.ReLU(inplace=True),\n",
        "\n",
        "            nn.Conv2d(512, 512, kernel_size=3, padding=1),\n",
        "            nn.BatchNorm2d(512),\n",
        "            nn.ReLU(inplace=True),\n",
        "            nn.MaxPool2d(kernel_size=2, stride=2)\n",
        "        )\n",
        "\n",
        "        self.classifier = nn.Sequential(\n",
        "            nn.Dropout(0.5),\n",
        "            nn.Linear(1 * 1 * 512, 4096),\n",
        "            nn.ReLU(inplace=True),\n",
        "\n",
        "            nn.Dropout(0.5),\n",
        "            nn.Linear(4096, 4096),\n",
        "            nn.ReLU(inplace=True),\n",
        "\n",
        "            nn.Linear(4096, num_classes)\n",
        "        )\n",
        "\n",
        "    def forward(self, x):\n",
        "        x = self.features(x)\n",
        "        x = torch.flatten(x, 1)\n",
        "        x = self.classifier(x)\n",
        "        return x\n"
      ]
    },
    {
      "cell_type": "code",
      "execution_count": 2,
      "metadata": {
        "colab": {
          "base_uri": "https://localhost:8080/"
        },
        "id": "2uGuIUtwSFAR",
        "outputId": "bd3930b3-a4a4-4c08-c45d-1bf996065769"
      },
      "outputs": [
        {
          "output_type": "stream",
          "name": "stdout",
          "text": [
            "Device: cuda\n"
          ]
        }
      ],
      "source": [
        "device = 'cuda' if torch.cuda.is_available() else 'cpu'\n",
        "cprint(f\"Device: {device}\", \"green\")"
      ]
    },
    {
      "cell_type": "code",
      "execution_count": 4,
      "metadata": {
        "id": "4E6TT8whO9N4"
      },
      "outputs": [],
      "source": [
        "classes = ['plane', 'car', 'bird', 'cat', 'deer', 'dog', 'frog', 'horse', 'ship', 'truck']"
      ]
    },
    {
      "cell_type": "code",
      "execution_count": 5,
      "metadata": {
        "id": "GBAe3Ds1zEmj"
      },
      "outputs": [],
      "source": [
        "transform_train = transforms.Compose([\n",
        "    transforms.ToTensor(),\n",
        "    transforms.Normalize(mean=(0.491, 0.482, 0.446), std=(0.247, 0.243, 0.261)),\n",
        "])\n",
        "transform_test = transforms.Compose([\n",
        "    transforms.ToTensor(),\n",
        "    transforms.Normalize(mean=(0.491, 0.482, 0.446), std=(0.247, 0.243, 0.261)),\n",
        "])"
      ]
    },
    {
      "cell_type": "code",
      "execution_count": 6,
      "metadata": {
        "id": "FR0BpY0YO-Em"
      },
      "outputs": [],
      "source": [
        "class UnNormalize(object):\n",
        "    def __init__(self, mean, std):\n",
        "        self.mean = torch.tensor(mean)\n",
        "        self.std = torch.tensor(std)\n",
        "\n",
        "    def __call__(self, tensor):\n",
        "        \"\"\"\n",
        "        Args:\n",
        "            tensor (Tensor): Tensor image of size (C, H, W) to be unnormalized.\n",
        "        Returns:\n",
        "            Tensor: Unnormalized image.\n",
        "        \"\"\"\n",
        "        return tensor * self.std.view(3, 1, 1) + self.mean.view(3, 1, 1)\n",
        "\n",
        "norminv = UnNormalize(mean=(0.491, 0.482, 0.446), std=(0.247, 0.243, 0.261))"
      ]
    },
    {
      "cell_type": "code",
      "execution_count": 8,
      "metadata": {
        "colab": {
          "base_uri": "https://localhost:8080/"
        },
        "id": "Z3UuPXFQOSDX",
        "outputId": "d68557a7-2e1b-4cf3-e511-27b2f9ef8ab0"
      },
      "outputs": [
        {
          "output_type": "stream",
          "name": "stdout",
          "text": [
            "Files already downloaded and verified\n",
            "Files already downloaded and verified\n"
          ]
        }
      ],
      "source": [
        "from torch.utils.data import random_split\n",
        "from torch.utils.data import DataLoader\n",
        "\n",
        "BATCH_SIZE = 128\n",
        "\n",
        "initial_trainset = torchvision.datasets.CIFAR10(root='./data', train=True, download=True, transform=transform_train)\n",
        "testset = torchvision.datasets.CIFAR10(root='./data', train=False, download=True, transform=transform_test)\n",
        "\n",
        "trainset, valset = random_split(initial_trainset, [40000, 10000])\n",
        "\n",
        "trainloader = DataLoader(trainset, batch_size=BATCH_SIZE, shuffle=True, num_workers=2)\n",
        "valloader = DataLoader(valset, batch_size=BATCH_SIZE, shuffle=False, num_workers=2)\n",
        "testloader = DataLoader(testset, batch_size=BATCH_SIZE, shuffle=False, num_workers=2)"
      ]
    },
    {
      "cell_type": "code",
      "execution_count": 12,
      "metadata": {
        "id": "RZyfRMlhqxii"
      },
      "outputs": [],
      "source": [
        "classes = initial_trainset.classes\n",
        "\n",
        "def visualize_samples(loader, classes, num_samples=5):\n",
        "    data_iter = iter(loader)\n",
        "    images, labels = next(data_iter)\n",
        "\n",
        "    class_samples = {cls: [] for cls in range(len(classes))}\n",
        "    for img, label in zip(images, labels):\n",
        "        if len(class_samples[label.item()]) < num_samples:\n",
        "            class_samples[label.item()].append(img)\n",
        "\n",
        "    fig, axes = plt.subplots(num_samples, len(classes), figsize=(15, 8))\n",
        "    for col, cls in enumerate(classes):\n",
        "        for row in range(num_samples):\n",
        "            if class_samples[col]:\n",
        "                img = norminv(class_samples[col][row])\n",
        "                img = img.permute(1, 2, 0).numpy()\n",
        "                axes[row, col].imshow(img)\n",
        "            axes[row, col].axis('off')\n",
        "            if row == 0:\n",
        "                axes[row, col].set_title(cls)\n",
        "\n",
        "    plt.tight_layout()\n",
        "    plt.show()\n",
        "# visualize_samples(trainloader, classes)"
      ]
    },
    {
      "cell_type": "code",
      "execution_count": 14,
      "metadata": {
        "colab": {
          "base_uri": "https://localhost:8080/"
        },
        "id": "FhLUsf5bx3su",
        "outputId": "e789a154-6773-4d10-838b-fd7f709dbc64"
      },
      "outputs": [
        {
          "output_type": "stream",
          "name": "stdout",
          "text": [
            "Epoch 1/30\n",
            "Train Loss: 1.4978, Train Accuracy: 43.53%\n",
            "Val Loss: 1.3485, Val Accuracy: 52.78%\n",
            "\n",
            "Epoch 2/30\n",
            "Train Loss: 0.9304, Train Accuracy: 67.48%\n",
            "Val Loss: 1.0720, Val Accuracy: 64.64%\n",
            "\n",
            "Epoch 3/30\n",
            "Train Loss: 0.7119, Train Accuracy: 75.69%\n",
            "Val Loss: 0.8299, Val Accuracy: 71.55%\n",
            "\n",
            "Epoch 4/30\n",
            "Train Loss: 0.5645, Train Accuracy: 80.92%\n",
            "Val Loss: 0.7982, Val Accuracy: 74.42%\n",
            "\n",
            "Epoch 5/30\n",
            "Train Loss: 0.4810, Train Accuracy: 84.01%\n",
            "Val Loss: 0.7123, Val Accuracy: 76.63%\n",
            "\n",
            "Epoch 6/30\n",
            "Train Loss: 0.4107, Train Accuracy: 86.41%\n",
            "Val Loss: 0.7630, Val Accuracy: 75.46%\n",
            "\n",
            "Epoch 7/30\n",
            "Train Loss: 0.3448, Train Accuracy: 88.62%\n",
            "Val Loss: 0.9560, Val Accuracy: 72.77%\n",
            "\n",
            "Epoch 8/30\n",
            "Train Loss: 0.3077, Train Accuracy: 89.94%\n",
            "Val Loss: 0.6247, Val Accuracy: 80.47%\n",
            "\n",
            "Epoch 9/30\n",
            "Train Loss: 0.2732, Train Accuracy: 91.07%\n",
            "Val Loss: 0.7057, Val Accuracy: 78.23%\n",
            "\n",
            "Epoch 10/30\n",
            "Train Loss: 0.2350, Train Accuracy: 92.37%\n",
            "Val Loss: 0.6797, Val Accuracy: 79.59%\n",
            "\n",
            "Epoch 11/30\n",
            "Train Loss: 0.2203, Train Accuracy: 92.74%\n",
            "Val Loss: 0.6714, Val Accuracy: 80.12%\n",
            "\n",
            "Epoch 12/30\n",
            "Train Loss: 0.1929, Train Accuracy: 93.73%\n",
            "Val Loss: 0.7375, Val Accuracy: 77.77%\n",
            "\n",
            "Epoch 13/30\n",
            "Train Loss: 0.1796, Train Accuracy: 94.09%\n",
            "Val Loss: 0.6947, Val Accuracy: 80.14%\n",
            "\n",
            "Epoch 14/30\n",
            "Train Loss: 0.1665, Train Accuracy: 94.64%\n",
            "Val Loss: 0.8978, Val Accuracy: 75.91%\n",
            "\n",
            "Epoch 15/30\n",
            "Train Loss: 0.1600, Train Accuracy: 94.76%\n",
            "Val Loss: 0.7392, Val Accuracy: 78.76%\n",
            "\n",
            "Epoch 16/30\n",
            "Train Loss: 0.1478, Train Accuracy: 95.23%\n",
            "Val Loss: 0.7592, Val Accuracy: 78.83%\n",
            "\n",
            "Epoch 17/30\n",
            "Train Loss: 0.1450, Train Accuracy: 95.33%\n",
            "Val Loss: 0.6807, Val Accuracy: 81.20%\n",
            "\n",
            "Epoch 18/30\n",
            "Train Loss: 0.1362, Train Accuracy: 95.56%\n",
            "Val Loss: 0.7840, Val Accuracy: 78.28%\n",
            "\n",
            "Epoch 19/30\n",
            "Train Loss: 0.1293, Train Accuracy: 95.92%\n",
            "Val Loss: 1.1186, Val Accuracy: 71.89%\n",
            "\n",
            "Epoch 20/30\n",
            "Train Loss: 0.1202, Train Accuracy: 96.33%\n",
            "Val Loss: 0.9311, Val Accuracy: 75.87%\n",
            "\n",
            "Epoch 21/30\n",
            "Train Loss: 0.1380, Train Accuracy: 95.69%\n",
            "Val Loss: 0.7577, Val Accuracy: 78.93%\n",
            "\n",
            "Epoch 22/30\n",
            "Train Loss: 0.1156, Train Accuracy: 96.45%\n",
            "Val Loss: 0.8954, Val Accuracy: 76.76%\n",
            "\n",
            "Epoch 23/30\n",
            "Train Loss: 0.1173, Train Accuracy: 96.27%\n",
            "Val Loss: 0.7263, Val Accuracy: 80.23%\n",
            "\n",
            "Epoch 24/30\n",
            "Train Loss: 0.1131, Train Accuracy: 96.50%\n",
            "Val Loss: 0.7627, Val Accuracy: 79.26%\n",
            "\n",
            "Epoch 25/30\n",
            "Train Loss: 0.1302, Train Accuracy: 95.95%\n",
            "Val Loss: 0.6986, Val Accuracy: 80.11%\n",
            "\n",
            "Epoch 26/30\n",
            "Train Loss: 0.1246, Train Accuracy: 96.22%\n",
            "Val Loss: 0.6709, Val Accuracy: 80.69%\n",
            "\n",
            "Epoch 27/30\n",
            "Train Loss: 0.1203, Train Accuracy: 96.27%\n",
            "Val Loss: 0.6930, Val Accuracy: 80.55%\n",
            "\n",
            "Epoch 28/30\n",
            "Train Loss: 0.1266, Train Accuracy: 96.09%\n",
            "Val Loss: 0.7486, Val Accuracy: 79.93%\n",
            "\n",
            "Epoch 29/30\n",
            "Train Loss: 0.1213, Train Accuracy: 96.24%\n",
            "Val Loss: 0.7214, Val Accuracy: 80.20%\n",
            "\n",
            "Epoch 30/30\n",
            "Train Loss: 0.1181, Train Accuracy: 96.34%\n",
            "Val Loss: 0.6758, Val Accuracy: 81.33%\n",
            "\n"
          ]
        }
      ],
      "source": [
        "net = VGG16(num_classes=10).to(device)\n",
        "criterion = nn.CrossEntropyLoss()\n",
        "optimizer = torch.optim.SGD(net.parameters(), lr=0.005, weight_decay=0.005, momentum=0.9)\n",
        "\n",
        "def train_epoch(net: torch.nn.Module, criterion: torch.nn.Module, optimizer: torch.optim.Optimizer ,dataloader: torch.utils.data.DataLoader):\n",
        "    net.train()\n",
        "    running_loss = 0.0\n",
        "    correct = 0\n",
        "    total = 0\n",
        "\n",
        "    for inputs, labels in dataloader:\n",
        "        inputs, labels = inputs.to(device), labels.to(device)\n",
        "\n",
        "        outputs = net(inputs)\n",
        "        loss = criterion(outputs, labels)\n",
        "\n",
        "        optimizer.zero_grad()\n",
        "        loss.backward()\n",
        "        optimizer.step()\n",
        "\n",
        "        running_loss += loss.item() * inputs.size(0)\n",
        "        _, predicted = outputs.max(1)\n",
        "        correct += predicted.eq(labels).sum().item()\n",
        "        total += labels.size(0)\n",
        "\n",
        "    epoch_loss = running_loss / total\n",
        "    epoch_acc = 100.0 * correct / total\n",
        "\n",
        "    return epoch_loss, epoch_acc\n",
        "\n",
        "def eval_epoch(net: torch.nn.Module, criterion: torch.nn.Module, dataloader: torch.utils.data.DataLoader):\n",
        "    net.eval()\n",
        "    running_loss = 0.0\n",
        "    correct = 0\n",
        "    total = 0\n",
        "\n",
        "    with torch.no_grad():\n",
        "        for inputs, labels in dataloader:\n",
        "            inputs, labels = inputs.to(device), labels.to(device)\n",
        "\n",
        "            outputs = net(inputs)\n",
        "            loss = criterion(outputs, labels)\n",
        "\n",
        "            running_loss += loss.item() * inputs.size(0)\n",
        "            _, predicted = outputs.max(1)\n",
        "            correct += predicted.eq(labels).sum().item()\n",
        "            total += labels.size(0)\n",
        "\n",
        "    epoch_loss = running_loss / total\n",
        "    epoch_acc = 100.0 * correct / total\n",
        "\n",
        "    return epoch_loss, epoch_acc\n",
        "\n",
        "epochs = 30\n",
        "history = {'train_loss':[], 'train_acc':[], 'val_loss':[], 'val_acc':[]}\n",
        "\n",
        "for e in range(epochs):\n",
        "    train_loss, train_acc = train_epoch(net, criterion, optimizer, trainloader)\n",
        "    val_loss, val_acc = eval_epoch(net, criterion, valloader)\n",
        "\n",
        "    history['train_loss'].append(train_loss)\n",
        "    history['train_acc'].append(train_acc)\n",
        "    history['val_loss'].append(val_loss)\n",
        "    history['val_acc'].append(val_acc)\n",
        "\n",
        "    cprint(f\"Epoch {e+1}/{epochs}\")\n",
        "    cprint(f\"Train Loss: {train_loss:.4f}, Train Accuracy: {train_acc:.2f}%\")\n",
        "    cprint(f\"Val Loss: {val_loss:.4f}, Val Accuracy: {val_acc:.2f}%\\n\")"
      ]
    },
    {
      "cell_type": "code",
      "execution_count": 15,
      "metadata": {
        "colab": {
          "base_uri": "https://localhost:8080/",
          "height": 449
        },
        "id": "zoTWbAVUbJw_",
        "outputId": "6a7d0c08-4ad1-4e4f-c0a7-2a0545c06483"
      },
      "outputs": [
        {
          "output_type": "display_data",
          "data": {
            "text/plain": [
              "<Figure size 640x480 with 1 Axes>"
            ],
            "image/png": "[encoded data removed]"
          },
          "metadata": {}
        }
      ],
      "source": [
        "plt.plot(history['train_acc'], label='train accuracy')\n",
        "plt.plot(history['val_acc'], label='validation accuracy')\n",
        "plt.xlabel('Epoch')\n",
        "plt.ylabel('Accuracy')\n",
        "plt.legend()\n",
        "plt.show()"
      ]
    },
    {
      "cell_type": "code",
      "execution_count": 16,
      "metadata": {
        "colab": {
          "base_uri": "https://localhost:8080/"
        },
        "id": "hzkNN4sMb3lK",
        "outputId": "ddb0ae87-b51d-45cf-fc66-92d04e5be5df"
      },
      "outputs": [
        {
          "output_type": "stream",
          "name": "stdout",
          "text": [
            "Test Loss: 0.6738\n",
            "Test Accuracy: 81.07%\n"
          ]
        }
      ],
      "source": [
        "test_loss, test_acc = eval_epoch(net, criterion, testloader)\n",
        "cprint(f\"Test Loss: {test_loss:.4f}\", \"blue\")\n",
        "cprint(f\"Test Accuracy: {test_acc:.2f}%\", \"magenta\")"
      ]
    },
    {
      "cell_type": "markdown",
      "source": [
        "The main use of convolutional layers in CNN models, is to extract features from the input data such as edges.\n",
        "\n",
        "They kernels in order to focus more on local regions to ensure that the spatial relationships with the data are preserved.\n",
        "\n",
        "After the feature extraction using the convolutional layers, fully connected layres are used in order to combine the extractions from the convolutional layers to analyze it for a prediction.\n",
        "\n",
        "With the explanations above, and the main goal of convolutional layers, it is obvious why we don't use fully connected layers instead. Some of the reasons are:\n",
        "\n",
        "1- The number of parameters would be significantly larger, making the model to require much more train data.\n",
        "\n",
        "2- As explained above, the locality would be lost if we used fully connected layers. (The reason is that the convolutional layers use kernels)"
      ],
      "metadata": {
        "id": "Q-jKAPg_qbcD"
      }
    },
    {
      "cell_type": "code",
      "source": [],
      "metadata": {
        "id": "9P94w3E0szPI"
      },
      "execution_count": null,
      "outputs": []
    }
  ],
  "metadata": {
    "accelerator": "GPU",
    "colab": {
      "gpuType": "T4",
      "provenance": []
    },
    "kernelspec": {
      "display_name": "pyvenv",
      "language": "python",
      "name": "python3"
    },
    "language_info": {
      "codemirror_mode": {
        "name": "ipython",
        "version": 3
      },
      "file_extension": ".py",
      "mimetype": "text/x-python",
      "name": "python",
      "nbconvert_exporter": "python",
      "pygments_lexer": "ipython3",
      "version": "3.12.3"
    }
  },
  "nbformat": 4,
  "nbformat_minor": 0
}